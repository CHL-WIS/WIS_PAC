{
 "metadata": {
  "name": "",
  "signature": "sha256:3df7ba79a9e5fa44d452dcb5df90c5b05393032c63365c6a1117151e0e9f17d8"
 },
 "nbformat": 3,
 "nbformat_minor": 0,
 "worksheets": []
}